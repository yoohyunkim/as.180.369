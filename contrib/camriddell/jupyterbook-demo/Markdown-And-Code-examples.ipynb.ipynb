{
 "cells": [
  {
   "cell_type": "markdown",
   "id": "8adcc193-6a29-4667-8542-6ddce9863264",
   "metadata": {},
   "source": [
    "---\n",
    "title: my analysis of....\n",
    "date: 2023-10-20\n",
    "authors:\n",
    "- name: Cameron\n",
    "  roles: \n",
    "    - Conceptualization\n",
    "    - Visualization\n",
    "---"
   ]
  },
  {
   "cell_type": "code",
   "execution_count": 5,
   "id": "7a8fe625-992a-44ff-aee1-c37c5472a2c6",
   "metadata": {},
   "outputs": [],
   "source": [
    "x = 1\n",
    "y = 2\n",
    "z = x + y"
   ]
  },
  {
   "cell_type": "markdown",
   "id": "df64eef7-ba5a-4ea7-bf75-fa7b3c7d6c88",
   "metadata": {
    "user_expressions": [
     {
      "expression": "z",
      "result": {
       "data": {
        "text/plain": "3"
       },
       "metadata": {},
       "status": "ok"
      }
     }
    ]
   },
   "source": [
    "test eval below:\n",
    "\n",
    "```\n",
    "x + y → {eval}`z`\n",
    "```\n",
    "\n",
    "x + y → {eval}`z`\n",
    "\n",
    "end eval test. If no output above, test failed"
   ]
  },
  {
   "cell_type": "markdown",
   "id": "87522639-aa31-47a5-887e-5430de89343c",
   "metadata": {
    "editable": true,
    "slideshow": {
     "slide_type": ""
    },
    "tags": []
   },
   "source": [
    "In text Citation: \n",
    "\n",
    "```\n",
    "{cite:t}`perez2011python`\n",
    "```\n",
    "\n",
    "- {cite:t}`perez2011python`\n",
    "- {cite:t}`caporaso2010qiime`\n",
    "\n",
    "Parenthetical Citation:\n",
    " \n",
    "```\n",
    "{cite:p}`perez2011python`\n",
    "```\n",
    "\n",
    "- {cite:p}`perez2011python`\n",
    "- {cite:p}`caporaso2010qiime`\n",
    "\n",
    "end citation test, if no output above, test failed"
   ]
  },
  {
   "cell_type": "markdown",
   "id": "7dd2efba-1006-47bc-b2ea-8b1db0c36fb3",
   "metadata": {},
   "source": [
    "```{bibliography}\n",
    "\n",
    "```"
   ]
  }
 ],
 "metadata": {
  "file_format": "mystnb",
  "kernelspec": {
   "display_name": "Python 3 (ipykernel)",
   "language": "python",
   "name": "python3"
  },
  "language_info": {
   "codemirror_mode": {
    "name": "ipython",
    "version": 3
   },
   "file_extension": ".py",
   "mimetype": "text/x-python",
   "name": "python",
   "nbconvert_exporter": "python",
   "pygments_lexer": "ipython3",
   "version": "3.10.10"
  },
  "mystnb": {
   "execution_mode": "inline"
  }
 },
 "nbformat": 4,
 "nbformat_minor": 5
}
